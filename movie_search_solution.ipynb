{
 "cells": [
  {
   "cell_type": "markdown",
   "id": "55ee7b49",
   "metadata": {},
   "source": [
    "# Movie Semantic Search — Assignment 1\n",
    "\n",
    "This notebook completes the five required parts:\n",
    "1. **Install & import libraries**\n",
    "2. **Load `movies.csv` into a DataFrame**\n",
    "3. **Create embeddings with `all-MiniLM-L6-v2`**\n",
    "4. **Implement `search_movies(query, top_n)`**\n",
    "5. **Test with query _'spy thriller in Paris'_**"
   ]
  },
  {
   "cell_type": "code",
   "execution_count": null,
   "id": "047f3cd7",
   "metadata": {},
   "outputs": [],
   "source": [
    "# 1) Install & import (run the pip cell only if needed)\n",
    "# !pip install -r requirements.txt\n",
    "import pandas as pd\n",
    "from movie_search import search_movies\n",
    "print('Imports okay')"
   ]
  },
  {
   "cell_type": "code",
   "execution_count": null,
   "id": "d1d35486",
   "metadata": {},
   "outputs": [],
   "source": [
    "# 2) Load dataset\n",
    "df = pd.read_csv('movies.csv')\n",
    "df.head()"
   ]
  },
  {
   "cell_type": "code",
   "execution_count": null,
   "id": "6662858a",
   "metadata": {},
   "outputs": [],
   "source": [
    "# 3) Create embeddings with all-MiniLM-L6-v2 (demo)\n",
    "from sentence_transformers import SentenceTransformer\n",
    "model = SentenceTransformer('sentence-transformers/all-MiniLM-L6-v2')\n",
    "sample_emb = model.encode(df['plot'].head(3).tolist())\n",
    "print('Embeddings shape for 3 plots:', getattr(sample_emb, 'shape', (len(sample_emb),)))"
   ]
  },
  {
   "cell_type": "code",
   "execution_count": null,
   "id": "a02e596c",
   "metadata": {},
   "outputs": [],
   "source": [
    "# 4) The implementation lives in movie_search.py\n",
    "from inspect import getsource\n",
    "print(getsource(search_movies))"
   ]
  },
  {
   "cell_type": "code",
   "execution_count": null,
   "id": "117016db",
   "metadata": {},
   "outputs": [],
   "source": [
    "# 5) Test with query 'spy thriller in Paris'\n",
    "results = search_movies('spy thriller in Paris', top_n=3, csv_path='movies.csv')\n",
    "results"
   ]
  }
 ],
 "metadata": {},
 "nbformat": 4,
 "nbformat_minor": 5
}
